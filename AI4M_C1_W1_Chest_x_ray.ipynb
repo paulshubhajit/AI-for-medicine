{
  "nbformat": 4,
  "nbformat_minor": 0,
  "metadata": {
    "colab": {
      "name": "AI4M_C1_W1_Chest_x-ray.ipynb",
      "provenance": [],
      "authorship_tag": "ABX9TyOfLLSmnDb8TZE8LjuqV54Q",
      "include_colab_link": true
    },
    "kernelspec": {
      "name": "python3",
      "display_name": "Python 3"
    }
  },
  "cells": [
    {
      "cell_type": "markdown",
      "metadata": {
        "id": "view-in-github",
        "colab_type": "text"
      },
      "source": [
        "<a href=\"https://colab.research.google.com/github/paulshubhajit/AI-for-medicine/blob/master/AI4M_C1_W1_Chest_x_ray.ipynb\" target=\"_parent\"><img src=\"https://colab.research.google.com/assets/colab-badge.svg\" alt=\"Open In Colab\"/></a>"
      ]
    },
    {
      "cell_type": "markdown",
      "metadata": {
        "id": "YWJAutNw4FjY",
        "colab_type": "text"
      },
      "source": [
        "AI for Medicine Course 1 Week 1 lecture exercises\n",
        "Data Exploration\n",
        "In the first assignment of this course, you will work with chest x-ray images taken from the public ChestX-ray8 dataset. In this notebook, you'll get a chance to explore this dataset and familiarize yourself with some of the techniques you'll use in the first graded assignment.\n",
        "\n",
        "U-net Image\n",
        "The first step before jumping into writing code for any machine learning project is to explore your data. A standard Python package for analyzing and manipulating data is pandas.\n",
        "\n",
        "With the next two code cells, you'll import pandas and a package called numpy for numerical manipulation, then use pandas to read a csv file into a dataframe and print out the first few rows of data."
      ]
    },
    {
      "cell_type": "code",
      "metadata": {
        "id": "LDTgv8yj4JCY",
        "colab_type": "code",
        "colab": {
          "base_uri": "https://localhost:8080/",
          "height": 71
        },
        "outputId": "60401ce9-eb63-418e-d555-1200bf83c8e4"
      },
      "source": [
        "# Import necessary packages\n",
        "import pandas as pd\n",
        "import numpy as np\n",
        "import matplotlib.pyplot as plt\n",
        "%matplotlib inline\n",
        "import os\n",
        "import seaborn as sns\n",
        "sns.set()"
      ],
      "execution_count": 1,
      "outputs": [
        {
          "output_type": "stream",
          "text": [
            "/usr/local/lib/python3.6/dist-packages/statsmodels/tools/_testing.py:19: FutureWarning: pandas.util.testing is deprecated. Use the functions in the public API at pandas.testing instead.\n",
            "  import pandas.util.testing as tm\n"
          ],
          "name": "stderr"
        }
      ]
    },
    {
      "cell_type": "code",
      "metadata": {
        "id": "O8m1oVWZ37JT",
        "colab_type": "code",
        "colab": {}
      },
      "source": [
        "# read csv files containing training dataset\n",
        "train_df=pd"
      ],
      "execution_count": null,
      "outputs": []
    }
  ]
}